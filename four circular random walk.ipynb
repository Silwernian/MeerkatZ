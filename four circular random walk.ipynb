{
 "cells": [
  {
   "cell_type": "code",
   "execution_count": null,
   "metadata": {},
   "outputs": [
    {
     "data": {
      "text/html": [
       "<div id=\"glowscript\" class=\"glowscript\"></div>"
      ],
      "text/plain": [
       "<IPython.core.display.HTML object>"
      ]
     },
     "metadata": {},
     "output_type": "display_data"
    },
    {
     "data": {
      "application/javascript": [
       "if (typeof Jupyter !== \"undefined\") { window.__context = { glowscript_container: $(\"#glowscript\").removeAttr(\"id\")};}else{ element.textContent = ' ';}"
      ],
      "text/plain": [
       "<IPython.core.display.Javascript object>"
      ]
     },
     "metadata": {},
     "output_type": "display_data"
    },
    {
     "data": {
      "text/html": [
       "<div id=\"glowscript\" class=\"glowscript\"></div>"
      ],
      "text/plain": [
       "<IPython.core.display.HTML object>"
      ]
     },
     "metadata": {},
     "output_type": "display_data"
    },
    {
     "data": {
      "application/javascript": [
       "if (typeof Jupyter !== \"undefined\") { window.__context = { glowscript_container: $(\"#glowscript\").removeAttr(\"id\")};}else{ element.textContent = ' ';}"
      ],
      "text/plain": [
       "<IPython.core.display.Javascript object>"
      ]
     },
     "metadata": {},
     "output_type": "display_data"
    },
    {
     "name": "stdout",
     "output_type": "stream",
     "text": [
      "Initializing . . . done\n"
     ]
    },
    {
     "data": {
      "application/javascript": [
       "if (typeof Jupyter !== \"undefined\") {require.undef(\"nbextensions/vpython_libraries/glow.min\");}else{element.textContent = ' ';}"
      ],
      "text/plain": [
       "<IPython.core.display.Javascript object>"
      ]
     },
     "metadata": {},
     "output_type": "display_data"
    },
    {
     "data": {
      "application/javascript": [
       "if (typeof Jupyter !== \"undefined\") {require.undef(\"nbextensions/vpython_libraries/glowcomm\");}else{element.textContent = ' ';}"
      ],
      "text/plain": [
       "<IPython.core.display.Javascript object>"
      ]
     },
     "metadata": {},
     "output_type": "display_data"
    },
    {
     "data": {
      "application/javascript": [
       "if (typeof Jupyter !== \"undefined\") {require.undef(\"nbextensions/vpython_libraries/jquery-ui.custom.min\");}else{element.textContent = ' ';}"
      ],
      "text/plain": [
       "<IPython.core.display.Javascript object>"
      ]
     },
     "metadata": {},
     "output_type": "display_data"
    },
    {
     "data": {
      "application/javascript": [
       "if (typeof Jupyter !== \"undefined\") {require([\"nbextensions/vpython_libraries/glow.min\"], function(){console.log(\"GLOW LOADED\");});}else{element.textContent = ' ';}"
      ],
      "text/plain": [
       "<IPython.core.display.Javascript object>"
      ]
     },
     "metadata": {},
     "output_type": "display_data"
    },
    {
     "data": {
      "application/javascript": [
       "if (typeof Jupyter !== \"undefined\") {require([\"nbextensions/vpython_libraries/glowcomm\"], function(){console.log(\"GLOWCOMM LOADED\");});}else{element.textContent = ' ';}"
      ],
      "text/plain": [
       "<IPython.core.display.Javascript object>"
      ]
     },
     "metadata": {},
     "output_type": "display_data"
    },
    {
     "data": {
      "application/javascript": [
       "if (typeof Jupyter !== \"undefined\") {require([\"nbextensions/vpython_libraries/jquery-ui.custom.min\"], function(){console.log(\"JQUERY LOADED\");});}else{element.textContent = ' ';}"
      ],
      "text/plain": [
       "<IPython.core.display.Javascript object>"
      ]
     },
     "metadata": {},
     "output_type": "display_data"
    }
   ],
   "source": [
    "import vpython as vp\n",
    "import numpy as np\n",
    "# Init parameters\n",
    "scene=vp.canvas()\n",
    "theta_1 = 0\n",
    "theta_2 = np.pi/2\n",
    "theta_3 = np.pi\n",
    "theta_4 = 3*np.pi/2\n",
    "R=2000 # radius of a circle\n",
    "L=500 # number of attice point\n",
    "print('Initializing . . . done')\n",
    "# Particles\n",
    "p_red=vp.sphere(pos=vp.vector(0,0,0),color=vp.color.red,radius=100)\n",
    "scene.camera.follow(p_red)\n",
    "print('Particle red has been created')\n",
    "p1=vp.sphere(pos=vp.vector(R,0,0),color=vp.color.white,\\\n",
    "             make_trail=True,trail_type='points',retain=1000,radius=100)\n",
    "print('Particle 1 has been created')\n",
    "p2=vp.sphere(pos=vp.vector(0,R,0),color=vp.color.green,\\\n",
    "             make_trail=True,trail_type='points',retain=1000,radius=100)\n",
    "print('Particle 2 has been created')\n",
    "p3=vp.sphere(pos=vp.vector(-R,0,0),color=vp.color.blue,\\\n",
    "             make_trail=True,trail_type='points',retain=1000,radius=100)\n",
    "print('Particle 3 has been created')\n",
    "p4=vp.sphere(pos=vp.vector(0,-R,0),color=vp.color.magenta,\\\n",
    "             make_trail=True,trail_type='points',retain=1000,radius=100)\n",
    "print('Particle 4 has been created')\n",
    "for t in range(1,1000000):\n",
    "    vp.rate(2000)\n",
    "    toss1=np.random.rand()\n",
    "    toss2=np.random.rand()\n",
    "    toss3=np.random.rand()\n",
    "    toss4=np.random.rand()\n",
    "    if toss1 >= 0.5:\n",
    "        theta_1 += 2*np.pi/L\n",
    "    else:\n",
    "        theta_1 -= 2*np.pi/L\n",
    "    if toss2 >= 0.5:\n",
    "        theta_2 += 2*np.pi/L\n",
    "    else:\n",
    "        theta_2 -= 2*np.pi/L\n",
    "    if toss3 >= 0.5:\n",
    "        theta_3 += 2*np.pi/L\n",
    "    else:\n",
    "        theta_3 -= 2*np.pi/L\n",
    "    if toss4 >= 0.5:\n",
    "        theta_4 += 2*np.pi/L\n",
    "    else:\n",
    "        theta_4 -= 2*np.pi/L\n",
    "    p1.pos=vp.vector(R*np.cos(theta_1),R*np.sin(theta_1),t)\n",
    "    p2.pos=vp.vector(R*np.cos(theta_2),R*np.sin(theta_2),t)\n",
    "    p3.pos=vp.vector(R*np.cos(theta_3),R*np.sin(theta_3),t)\n",
    "    p4.pos=vp.vector(R*np.cos(theta_4),R*np.sin(theta_4),t)\n",
    "    p_red.pos=vp.vector(0,0,t)\n",
    "    "
   ]
  },
  {
   "cell_type": "code",
   "execution_count": null,
   "metadata": {},
   "outputs": [],
   "source": []
  },
  {
   "cell_type": "code",
   "execution_count": null,
   "metadata": {},
   "outputs": [],
   "source": []
  }
 ],
 "metadata": {
  "kernelspec": {
   "display_name": "Python 3",
   "language": "python",
   "name": "python3"
  },
  "language_info": {
   "codemirror_mode": {
    "name": "ipython",
    "version": 3
   },
   "file_extension": ".py",
   "mimetype": "text/x-python",
   "name": "python",
   "nbconvert_exporter": "python",
   "pygments_lexer": "ipython3",
   "version": "3.7.3"
  }
 },
 "nbformat": 4,
 "nbformat_minor": 4
}
